{
  "metadata": {
    "kernelspec": {
      "language": "python",
      "display_name": "Python 3",
      "name": "python3"
    },
    "language_info": {
      "name": "python",
      "version": "3.7.12",
      "mimetype": "text/x-python",
      "codemirror_mode": {
        "name": "ipython",
        "version": 3
      },
      "pygments_lexer": "ipython3",
      "nbconvert_exporter": "python",
      "file_extension": ".py"
    },
    "colab": {
      "provenance": []
    }
  },
  "nbformat_minor": 0,
  "nbformat": 4,
  "cells": [
    {
      "cell_type": "code",
      "source": [
        "# This Python 3 environment comes with many helpful analytics libraries installed\n",
        "# It is defined by the kaggle/python Docker image: https://github.com/kaggle/docker-python\n",
        "# For example, here's several helpful packages to load\n",
        "\n",
        "import numpy as np # linear algebra\n",
        "import pandas as pd # data processing, CSV file I/O (e.g. pd.read_csv)\n",
        "\n",
        "# Input data files are available in the read-only \"../input/\" directory\n",
        "# For example, running this (by clicking run or pressing Shift+Enter) will list all files under the input directory\n",
        "\n",
        "import os\n",
        "for dirname, _, filenames in os.walk('/kaggle/input'):\n",
        "    for filename in filenames:\n",
        "        print(os.path.join(dirname, filename))\n",
        "\n",
        "# You can write up to 20GB to the current directory (/kaggle/working/) that gets preserved as output when you create a version using \"Save & Run All\" \n",
        "# You can also write temporary files to /kaggle/temp/, but they won't be saved outside of the current session"
      ],
      "metadata": {
        "_uuid": "8f2839f25d086af736a60e9eeb907d3b93b6e0e5",
        "_cell_guid": "b1076dfc-b9ad-4769-8c92-a6c4dae69d19",
        "execution": {
          "iopub.status.busy": "2023-03-15T04:05:44.720599Z",
          "iopub.execute_input": "2023-03-15T04:05:44.721627Z",
          "iopub.status.idle": "2023-03-15T04:05:44.775688Z",
          "shell.execute_reply.started": "2023-03-15T04:05:44.721582Z",
          "shell.execute_reply": "2023-03-15T04:05:44.774319Z"
        },
        "trusted": true,
        "id": "eKm7W_N3Ftlp"
      },
      "execution_count": 1,
      "outputs": []
    },
    {
      "cell_type": "code",
      "source": [
        "!pip install pyspark"
      ],
      "metadata": {
        "execution": {
          "iopub.status.busy": "2023-03-15T04:05:44.778117Z",
          "iopub.execute_input": "2023-03-15T04:05:44.778585Z",
          "iopub.status.idle": "2023-03-15T04:06:33.474922Z",
          "shell.execute_reply.started": "2023-03-15T04:05:44.778535Z",
          "shell.execute_reply": "2023-03-15T04:06:33.473889Z"
        },
        "trusted": true,
        "colab": {
          "base_uri": "https://localhost:8080/"
        },
        "id": "_LEO157yFtlr",
        "outputId": "de4337ba-d993-4901-f4fa-4fc3ccfee62d"
      },
      "execution_count": 2,
      "outputs": [
        {
          "output_type": "stream",
          "name": "stdout",
          "text": [
            "Looking in indexes: https://pypi.org/simple, https://us-python.pkg.dev/colab-wheels/public/simple/\n",
            "Collecting pyspark\n",
            "  Downloading pyspark-3.3.2.tar.gz (281.4 MB)\n",
            "\u001b[2K     \u001b[90m━━━━━━━━━━━━━━━━━━━━━━━━━━━━━━━━━━━━━━━\u001b[0m \u001b[32m281.4/281.4 MB\u001b[0m \u001b[31m4.9 MB/s\u001b[0m eta \u001b[36m0:00:00\u001b[0m\n",
            "\u001b[?25h  Preparing metadata (setup.py) ... \u001b[?25l\u001b[?25hdone\n",
            "Collecting py4j==0.10.9.5\n",
            "  Downloading py4j-0.10.9.5-py2.py3-none-any.whl (199 kB)\n",
            "\u001b[2K     \u001b[90m━━━━━━━━━━━━━━━━━━━━━━━━━━━━━━━━━━━━━━\u001b[0m \u001b[32m199.7/199.7 KB\u001b[0m \u001b[31m16.8 MB/s\u001b[0m eta \u001b[36m0:00:00\u001b[0m\n",
            "\u001b[?25hBuilding wheels for collected packages: pyspark\n",
            "  Building wheel for pyspark (setup.py) ... \u001b[?25l\u001b[?25hdone\n",
            "  Created wheel for pyspark: filename=pyspark-3.3.2-py2.py3-none-any.whl size=281824025 sha256=4d209b2920ec5a1780959799f6412888a26f3ee5ff5b6ee3fa6114827819896c\n",
            "  Stored in directory: /root/.cache/pip/wheels/6c/e3/9b/0525ce8a69478916513509d43693511463c6468db0de237c86\n",
            "Successfully built pyspark\n",
            "Installing collected packages: py4j, pyspark\n",
            "Successfully installed py4j-0.10.9.5 pyspark-3.3.2\n"
          ]
        }
      ]
    },
    {
      "cell_type": "code",
      "source": [
        "import pyspark"
      ],
      "metadata": {
        "execution": {
          "iopub.status.busy": "2023-03-15T04:06:33.477425Z",
          "iopub.execute_input": "2023-03-15T04:06:33.477797Z",
          "iopub.status.idle": "2023-03-15T04:06:33.539772Z",
          "shell.execute_reply.started": "2023-03-15T04:06:33.477761Z",
          "shell.execute_reply": "2023-03-15T04:06:33.538596Z"
        },
        "trusted": true,
        "id": "nag0IAORFtls"
      },
      "execution_count": 3,
      "outputs": []
    },
    {
      "cell_type": "code",
      "source": [
        "conf = pyspark.SparkConf().setMaster(\"local\").setAppName(\"ProjectEDA\")\n",
        "sc = pyspark.SparkContext(conf=conf)"
      ],
      "metadata": {
        "execution": {
          "iopub.status.busy": "2023-03-15T04:07:17.001199Z",
          "iopub.execute_input": "2023-03-15T04:07:17.001661Z",
          "iopub.status.idle": "2023-03-15T04:07:22.483283Z",
          "shell.execute_reply.started": "2023-03-15T04:07:17.001621Z",
          "shell.execute_reply": "2023-03-15T04:07:22.482153Z"
        },
        "trusted": true,
        "id": "Musm8Z2CFtls"
      },
      "execution_count": 4,
      "outputs": []
    },
    {
      "cell_type": "code",
      "source": [
        "spark = pyspark.sql.SparkSession(sc)"
      ],
      "metadata": {
        "execution": {
          "iopub.status.busy": "2023-03-15T04:07:35.511358Z",
          "iopub.execute_input": "2023-03-15T04:07:35.511847Z",
          "iopub.status.idle": "2023-03-15T04:07:35.675484Z",
          "shell.execute_reply.started": "2023-03-15T04:07:35.511806Z",
          "shell.execute_reply": "2023-03-15T04:07:35.674504Z"
        },
        "trusted": true,
        "id": "q49H_1YBFtlt"
      },
      "execution_count": 5,
      "outputs": []
    },
    {
      "cell_type": "code",
      "source": [
        "df_temp_data = spark.read.csv('city_temperature.csv', header=True, inferSchema=True)\n",
        "df_temp_data.take(5)"
      ],
      "metadata": {
        "execution": {
          "iopub.status.busy": "2023-03-15T04:07:40.907003Z",
          "iopub.execute_input": "2023-03-15T04:07:40.907422Z",
          "iopub.status.idle": "2023-03-15T04:07:54.015020Z",
          "shell.execute_reply.started": "2023-03-15T04:07:40.907386Z",
          "shell.execute_reply": "2023-03-15T04:07:54.014055Z"
        },
        "trusted": true,
        "colab": {
          "base_uri": "https://localhost:8080/"
        },
        "id": "fYfu23DfFtlt",
        "outputId": "baaaa24e-345d-4140-c8c8-ba29c77a7bb7"
      },
      "execution_count": 6,
      "outputs": [
        {
          "output_type": "execute_result",
          "data": {
            "text/plain": [
              "[Row(Region='Africa', Country='Algeria', State=None, City='Algiers', Month=1, Day=1, Year=1995, AvgTemperature=64.2),\n",
              " Row(Region='Africa', Country='Algeria', State=None, City='Algiers', Month=1, Day=2, Year=1995, AvgTemperature=49.4),\n",
              " Row(Region='Africa', Country='Algeria', State=None, City='Algiers', Month=1, Day=3, Year=1995, AvgTemperature=48.8),\n",
              " Row(Region='Africa', Country='Algeria', State=None, City='Algiers', Month=1, Day=4, Year=1995, AvgTemperature=46.4),\n",
              " Row(Region='Africa', Country='Algeria', State=None, City='Algiers', Month=1, Day=5, Year=1995, AvgTemperature=47.9)]"
            ]
          },
          "metadata": {},
          "execution_count": 6
        }
      ]
    },
    {
      "cell_type": "code",
      "source": [
        "#This prints out the schema of the Dataframe. \n",
        "df_temp_data.printSchema()"
      ],
      "metadata": {
        "execution": {
          "iopub.status.busy": "2023-03-15T04:07:54.016763Z",
          "iopub.execute_input": "2023-03-15T04:07:54.017337Z",
          "iopub.status.idle": "2023-03-15T04:07:54.029455Z",
          "shell.execute_reply.started": "2023-03-15T04:07:54.017302Z",
          "shell.execute_reply": "2023-03-15T04:07:54.028540Z"
        },
        "trusted": true,
        "colab": {
          "base_uri": "https://localhost:8080/"
        },
        "id": "qM8L8GggFtlt",
        "outputId": "32d8854c-3446-4cc1-9222-8cdaa490e3ba"
      },
      "execution_count": 7,
      "outputs": [
        {
          "output_type": "stream",
          "name": "stdout",
          "text": [
            "root\n",
            " |-- Region: string (nullable = true)\n",
            " |-- Country: string (nullable = true)\n",
            " |-- State: string (nullable = true)\n",
            " |-- City: string (nullable = true)\n",
            " |-- Month: integer (nullable = true)\n",
            " |-- Day: integer (nullable = true)\n",
            " |-- Year: integer (nullable = true)\n",
            " |-- AvgTemperature: double (nullable = true)\n",
            "\n"
          ]
        }
      ]
    },
    {
      "cell_type": "code",
      "source": [
        "#This prints out the first 5 rows of the Dataframe. \n",
        "df_temp_data.show(5)"
      ],
      "metadata": {
        "execution": {
          "iopub.status.busy": "2023-03-15T04:12:18.940591Z",
          "iopub.execute_input": "2023-03-15T04:12:18.941526Z",
          "iopub.status.idle": "2023-03-15T04:12:19.100519Z",
          "shell.execute_reply.started": "2023-03-15T04:12:18.941471Z",
          "shell.execute_reply": "2023-03-15T04:12:19.099366Z"
        },
        "trusted": true,
        "colab": {
          "base_uri": "https://localhost:8080/"
        },
        "id": "Zatt4W6qFtlu",
        "outputId": "90cb5d87-30b9-4a25-b100-22a6b4b9d979"
      },
      "execution_count": 8,
      "outputs": [
        {
          "output_type": "stream",
          "name": "stdout",
          "text": [
            "+------+-------+-----+-------+-----+---+----+--------------+\n",
            "|Region|Country|State|   City|Month|Day|Year|AvgTemperature|\n",
            "+------+-------+-----+-------+-----+---+----+--------------+\n",
            "|Africa|Algeria| null|Algiers|    1|  1|1995|          64.2|\n",
            "|Africa|Algeria| null|Algiers|    1|  2|1995|          49.4|\n",
            "|Africa|Algeria| null|Algiers|    1|  3|1995|          48.8|\n",
            "|Africa|Algeria| null|Algiers|    1|  4|1995|          46.4|\n",
            "|Africa|Algeria| null|Algiers|    1|  5|1995|          47.9|\n",
            "+------+-------+-----+-------+-----+---+----+--------------+\n",
            "only showing top 5 rows\n",
            "\n"
          ]
        }
      ]
    },
    {
      "cell_type": "code",
      "source": [
        "#This prints out the first 5 rows of the DataFrame, but in row format. \n",
        "df_temp_data.head(5)"
      ],
      "metadata": {
        "execution": {
          "iopub.status.busy": "2023-03-15T04:07:54.344434Z",
          "iopub.execute_input": "2023-03-15T04:07:54.345698Z",
          "iopub.status.idle": "2023-03-15T04:07:54.477483Z",
          "shell.execute_reply.started": "2023-03-15T04:07:54.345645Z",
          "shell.execute_reply": "2023-03-15T04:07:54.476201Z"
        },
        "trusted": true,
        "colab": {
          "base_uri": "https://localhost:8080/"
        },
        "id": "m7OQpGf6Ftlu",
        "outputId": "7233bb7e-19fe-46d1-9d34-675f983753bf"
      },
      "execution_count": 9,
      "outputs": [
        {
          "output_type": "execute_result",
          "data": {
            "text/plain": [
              "[Row(Region='Africa', Country='Algeria', State=None, City='Algiers', Month=1, Day=1, Year=1995, AvgTemperature=64.2),\n",
              " Row(Region='Africa', Country='Algeria', State=None, City='Algiers', Month=1, Day=2, Year=1995, AvgTemperature=49.4),\n",
              " Row(Region='Africa', Country='Algeria', State=None, City='Algiers', Month=1, Day=3, Year=1995, AvgTemperature=48.8),\n",
              " Row(Region='Africa', Country='Algeria', State=None, City='Algiers', Month=1, Day=4, Year=1995, AvgTemperature=46.4),\n",
              " Row(Region='Africa', Country='Algeria', State=None, City='Algiers', Month=1, Day=5, Year=1995, AvgTemperature=47.9)]"
            ]
          },
          "metadata": {},
          "execution_count": 9
        }
      ]
    },
    {
      "cell_type": "code",
      "source": [
        "#This counts the number of rows in the DataFrame. \n",
        "df_temp_data.count()"
      ],
      "metadata": {
        "execution": {
          "iopub.status.busy": "2023-03-15T04:07:54.479989Z",
          "iopub.execute_input": "2023-03-15T04:07:54.480807Z",
          "iopub.status.idle": "2023-03-15T04:07:56.253802Z",
          "shell.execute_reply.started": "2023-03-15T04:07:54.480760Z",
          "shell.execute_reply": "2023-03-15T04:07:56.252494Z"
        },
        "trusted": true,
        "colab": {
          "base_uri": "https://localhost:8080/"
        },
        "id": "1dOkhReGFtlu",
        "outputId": "d604d83e-2e0c-47f7-b5e5-4a131df07a14"
      },
      "execution_count": 10,
      "outputs": [
        {
          "output_type": "execute_result",
          "data": {
            "text/plain": [
              "2906327"
            ]
          },
          "metadata": {},
          "execution_count": 10
        }
      ]
    },
    {
      "cell_type": "code",
      "source": [
        "# If you want to view statistical properties of all the columns. However, in this context, it only makes sense for AvgTemperature column\n",
        "# for col in df_temp_data.columns:\n",
        "#     df_temp_data.describe([col]).show()"
      ],
      "metadata": {
        "execution": {
          "iopub.status.busy": "2023-03-13T21:21:24.809615Z",
          "iopub.execute_input": "2023-03-13T21:21:24.810479Z",
          "iopub.status.idle": "2023-03-13T21:21:24.815739Z",
          "shell.execute_reply.started": "2023-03-13T21:21:24.810433Z",
          "shell.execute_reply": "2023-03-13T21:21:24.814075Z"
        },
        "trusted": true,
        "id": "yaoC6WlMFtlu"
      },
      "execution_count": 11,
      "outputs": []
    },
    {
      "cell_type": "code",
      "source": [
        "#This determines the statistics of the Average Temperature Column. \n",
        "df_temp_data.describe([\"AvgTemperature\"]).show()"
      ],
      "metadata": {
        "execution": {
          "iopub.status.busy": "2023-03-15T04:08:38.310272Z",
          "iopub.execute_input": "2023-03-15T04:08:38.310728Z",
          "iopub.status.idle": "2023-03-15T04:08:42.688342Z",
          "shell.execute_reply.started": "2023-03-15T04:08:38.310691Z",
          "shell.execute_reply": "2023-03-15T04:08:42.686912Z"
        },
        "trusted": true,
        "colab": {
          "base_uri": "https://localhost:8080/"
        },
        "id": "3M1bCC_UFtlv",
        "outputId": "15bccb2e-1ca9-4cc0-9b7b-6df1774982cb"
      },
      "execution_count": 12,
      "outputs": [
        {
          "output_type": "stream",
          "name": "stdout",
          "text": [
            "+-------+-----------------+\n",
            "|summary|   AvgTemperature|\n",
            "+-------+-----------------+\n",
            "|  count|          2906327|\n",
            "|   mean|56.00492078145553|\n",
            "| stddev|32.12359394724281|\n",
            "|    min|            -99.0|\n",
            "|    max|            110.0|\n",
            "+-------+-----------------+\n",
            "\n"
          ]
        }
      ]
    },
    {
      "cell_type": "code",
      "source": [
        "#This finds unique values of a categorical column. We used Region here as the sample column. \n",
        "df_temp_data.select('Region').distinct().rdd.map(lambda r: r[0]).collect()"
      ],
      "metadata": {
        "execution": {
          "iopub.status.busy": "2023-03-15T04:08:42.691921Z",
          "iopub.execute_input": "2023-03-15T04:08:42.692424Z",
          "iopub.status.idle": "2023-03-15T04:08:48.258215Z",
          "shell.execute_reply.started": "2023-03-15T04:08:42.692374Z",
          "shell.execute_reply": "2023-03-15T04:08:48.256985Z"
        },
        "trusted": true,
        "colab": {
          "base_uri": "https://localhost:8080/"
        },
        "id": "em_300T8Ftlv",
        "outputId": "7604ddc1-9e1a-4426-c6a7-cfd66fe03212"
      },
      "execution_count": 13,
      "outputs": [
        {
          "output_type": "execute_result",
          "data": {
            "text/plain": [
              "['Europe',\n",
              " 'Africa',\n",
              " 'North America',\n",
              " 'Middle East',\n",
              " 'South/Central America & Carribean',\n",
              " 'Asia',\n",
              " 'Australia/South Pacific']"
            ]
          },
          "metadata": {},
          "execution_count": 13
        }
      ]
    },
    {
      "cell_type": "code",
      "source": [
        "#This find the number of unqiue countries.\n",
        "distinct_countries = df_temp_data.select('Country').distinct().rdd.map(lambda r: r[0]).collect()\n",
        "len(distinct_countries)"
      ],
      "metadata": {
        "execution": {
          "iopub.status.busy": "2023-03-15T04:08:48.260663Z",
          "iopub.execute_input": "2023-03-15T04:08:48.261137Z",
          "iopub.status.idle": "2023-03-15T04:08:52.589272Z",
          "shell.execute_reply.started": "2023-03-15T04:08:48.261080Z",
          "shell.execute_reply": "2023-03-15T04:08:52.588097Z"
        },
        "trusted": true,
        "colab": {
          "base_uri": "https://localhost:8080/"
        },
        "id": "5XeIOZfsFtlv",
        "outputId": "32d6a359-9bf7-420e-d4b2-b584dff63e82"
      },
      "execution_count": 14,
      "outputs": [
        {
          "output_type": "execute_result",
          "data": {
            "text/plain": [
              "125"
            ]
          },
          "metadata": {},
          "execution_count": 14
        }
      ]
    },
    {
      "cell_type": "code",
      "source": [
        "#This find the number of unique cities. \n",
        "distinct_cities = df_temp_data.select('City').distinct().rdd.map(lambda r: r[0]).collect()\n",
        "len(distinct_cities)"
      ],
      "metadata": {
        "execution": {
          "iopub.status.busy": "2023-03-15T04:08:52.591860Z",
          "iopub.execute_input": "2023-03-15T04:08:52.592757Z",
          "iopub.status.idle": "2023-03-15T04:08:57.190153Z",
          "shell.execute_reply.started": "2023-03-15T04:08:52.592709Z",
          "shell.execute_reply": "2023-03-15T04:08:57.188893Z"
        },
        "trusted": true,
        "colab": {
          "base_uri": "https://localhost:8080/"
        },
        "id": "9NwGJAriFtlw",
        "outputId": "39bc4a9f-a8c9-49b6-886c-28ec2beed4ce"
      },
      "execution_count": 15,
      "outputs": [
        {
          "output_type": "execute_result",
          "data": {
            "text/plain": [
              "321"
            ]
          },
          "metadata": {},
          "execution_count": 15
        }
      ]
    },
    {
      "cell_type": "code",
      "source": [
        "# Practice filtering data based on a column value\n",
        "us_cities = df_temp_data.filter(\"Country == 'US'\").select('City').distinct().rdd.map(lambda r: r[0]).collect()"
      ],
      "metadata": {
        "execution": {
          "iopub.status.busy": "2023-03-15T04:08:57.192025Z",
          "iopub.execute_input": "2023-03-15T04:08:57.192443Z",
          "iopub.status.idle": "2023-03-15T04:09:01.706861Z",
          "shell.execute_reply.started": "2023-03-15T04:08:57.192398Z",
          "shell.execute_reply": "2023-03-15T04:09:01.705205Z"
        },
        "trusted": true,
        "id": "lYojhJVfFtlw"
      },
      "execution_count": 16,
      "outputs": []
    },
    {
      "cell_type": "markdown",
      "source": [
        "# Merging Lat/Long Data for Cities"
      ],
      "metadata": {
        "id": "cAfQpZIjFtlw"
      }
    },
    {
      "cell_type": "markdown",
      "source": [
        "In this next section, I'm experimenting with pulling latitude/longitude data for each city based on worldcities.csv file found here: https://www.kaggle.com/datasets/juanmah/world-cities"
      ],
      "metadata": {
        "id": "p-yNm_K_Ftlx"
      }
    },
    {
      "cell_type": "code",
      "source": [
        "df_city_data = spark.read.csv('worldcities_modified.csv', header=True, inferSchema=True)\n",
        "df_city_data.show(5)"
      ],
      "metadata": {
        "execution": {
          "iopub.status.busy": "2023-03-15T04:09:15.114828Z",
          "iopub.execute_input": "2023-03-15T04:09:15.115999Z",
          "iopub.status.idle": "2023-03-15T04:09:15.827057Z",
          "shell.execute_reply.started": "2023-03-15T04:09:15.115898Z",
          "shell.execute_reply": "2023-03-15T04:09:15.825411Z"
        },
        "trusted": true,
        "colab": {
          "base_uri": "https://localhost:8080/"
        },
        "id": "YLUvRZrpFtlx",
        "outputId": "ee817b06-2822-41a7-c6b6-1fa6eb2c5cfd"
      },
      "execution_count": 17,
      "outputs": [
        {
          "output_type": "stream",
          "name": "stdout",
          "text": [
            "+---------+----------+--------+--------+-----------+----+----+----------+-------+----------+----------+\n",
            "|     city|city_ascii|     lat|     lng|    country|iso2|iso3|admin_name|capital|population|        id|\n",
            "+---------+----------+--------+--------+-----------+----+----+----------+-------+----------+----------+\n",
            "|    Tokyo|     Tokyo| 35.6839|139.7744|      Japan|  JP| JPN|     Tōkyō|primary|  39105000|1392685764|\n",
            "|  Jakarta|   Jakarta| -6.2146|106.8451|  Indonesia|  ID| IDN|   Jakarta|primary|  35362000|1360771077|\n",
            "|    Delhi|     Delhi| 28.6667| 77.2167|      India|  IN| IND|     Delhi|  admin|  31870000|1356872604|\n",
            "|   Manila|    Manila|    14.6|120.9833|Philippines|  PH| PHL|    Manila|primary|  23971000|1608618140|\n",
            "|São Paulo| Sao Paulo|-23.5504|-46.6339|     Brazil|  BR| BRA| São Paulo|  admin|  22495000|1076532519|\n",
            "+---------+----------+--------+--------+-----------+----+----+----------+-------+----------+----------+\n",
            "only showing top 5 rows\n",
            "\n"
          ]
        }
      ]
    },
    {
      "cell_type": "code",
      "source": [
        "df_city_data.printSchema()"
      ],
      "metadata": {
        "execution": {
          "iopub.status.busy": "2023-03-15T04:09:18.182592Z",
          "iopub.execute_input": "2023-03-15T04:09:18.183028Z",
          "iopub.status.idle": "2023-03-15T04:09:18.191446Z",
          "shell.execute_reply.started": "2023-03-15T04:09:18.182992Z",
          "shell.execute_reply": "2023-03-15T04:09:18.189917Z"
        },
        "trusted": true,
        "colab": {
          "base_uri": "https://localhost:8080/"
        },
        "id": "TO4k77NmFtlx",
        "outputId": "dc2d9a2b-dbaf-43a3-b840-f2b92dbc3f0d"
      },
      "execution_count": 18,
      "outputs": [
        {
          "output_type": "stream",
          "name": "stdout",
          "text": [
            "root\n",
            " |-- city: string (nullable = true)\n",
            " |-- city_ascii: string (nullable = true)\n",
            " |-- lat: double (nullable = true)\n",
            " |-- lng: double (nullable = true)\n",
            " |-- country: string (nullable = true)\n",
            " |-- iso2: string (nullable = true)\n",
            " |-- iso3: string (nullable = true)\n",
            " |-- admin_name: string (nullable = true)\n",
            " |-- capital: string (nullable = true)\n",
            " |-- population: integer (nullable = true)\n",
            " |-- id: integer (nullable = true)\n",
            "\n"
          ]
        }
      ]
    },
    {
      "cell_type": "code",
      "source": [
        "df_city_data.count()"
      ],
      "metadata": {
        "execution": {
          "iopub.status.busy": "2023-03-15T04:09:22.461559Z",
          "iopub.execute_input": "2023-03-15T04:09:22.462058Z",
          "iopub.status.idle": "2023-03-15T04:09:22.630101Z",
          "shell.execute_reply.started": "2023-03-15T04:09:22.462017Z",
          "shell.execute_reply": "2023-03-15T04:09:22.628691Z"
        },
        "trusted": true,
        "colab": {
          "base_uri": "https://localhost:8080/"
        },
        "id": "l12nsQaiFtly",
        "outputId": "23ac0ade-4e89-42e6-d535-e98588cf4d68"
      },
      "execution_count": 19,
      "outputs": [
        {
          "output_type": "execute_result",
          "data": {
            "text/plain": [
              "12986"
            ]
          },
          "metadata": {},
          "execution_count": 19
        }
      ]
    },
    {
      "cell_type": "code",
      "source": [
        "# Combine US cities with states because some cities share names\n",
        "from pyspark.sql.functions import when, concat\n",
        "df_temp_data = df_temp_data.withColumn(\"City\", when(df_temp_data.Country == \"US\", concat(df_temp_data[\"City\"], df_temp_data[\"State\"]))\n",
        "                                 .otherwise(df_temp_data.City))"
      ],
      "metadata": {
        "execution": {
          "iopub.status.busy": "2023-03-15T04:10:06.648273Z",
          "iopub.execute_input": "2023-03-15T04:10:06.648691Z",
          "iopub.status.idle": "2023-03-15T04:10:06.682298Z",
          "shell.execute_reply.started": "2023-03-15T04:10:06.648654Z",
          "shell.execute_reply": "2023-03-15T04:10:06.681073Z"
        },
        "trusted": true,
        "id": "gMWA0GN2Ftly"
      },
      "execution_count": 20,
      "outputs": []
    },
    {
      "cell_type": "code",
      "source": [
        "# Drop State column as it's no longer necessary\n",
        "df_temp_data = df_temp_data.drop(\"State\")"
      ],
      "metadata": {
        "execution": {
          "iopub.status.busy": "2023-03-15T04:12:13.816273Z",
          "iopub.execute_input": "2023-03-15T04:12:13.817850Z",
          "iopub.status.idle": "2023-03-15T04:12:13.836555Z",
          "shell.execute_reply.started": "2023-03-15T04:12:13.817798Z",
          "shell.execute_reply": "2023-03-15T04:12:13.835035Z"
        },
        "trusted": true,
        "id": "lQdslrX1Ftly"
      },
      "execution_count": 21,
      "outputs": []
    },
    {
      "cell_type": "code",
      "source": [
        "# Combine US cities with states to match temperature data City column\n",
        "df_city_data = df_city_data.withColumn(\"city_ascii\", when(df_city_data.country == \"US\", concat(df_city_data[\"city_ascii\"], df_city_data[\"admin_name\"]))\n",
        "                                      .otherwise(df_city_data.city_ascii))"
      ],
      "metadata": {
        "execution": {
          "iopub.status.busy": "2023-03-15T04:13:19.171973Z",
          "iopub.execute_input": "2023-03-15T04:13:19.172428Z",
          "iopub.status.idle": "2023-03-15T04:13:19.196779Z",
          "shell.execute_reply.started": "2023-03-15T04:13:19.172386Z",
          "shell.execute_reply": "2023-03-15T04:13:19.195821Z"
        },
        "trusted": true,
        "id": "537ht1Z9Ftly"
      },
      "execution_count": 22,
      "outputs": []
    },
    {
      "cell_type": "code",
      "source": [
        "# Create a key column to join against worldcities file\n",
        "df_temp_data = df_temp_data.withColumn(\"CityKey\", concat(df_temp_data[\"City\"], df_temp_data[\"Country\"]))\n",
        "df_city_data = df_city_data.withColumn(\"Key\", concat(df_city_data[\"city_ascii\"], df_city_data[\"country\"]))"
      ],
      "metadata": {
        "execution": {
          "iopub.status.busy": "2023-03-15T04:13:38.703573Z",
          "iopub.execute_input": "2023-03-15T04:13:38.704515Z",
          "iopub.status.idle": "2023-03-15T04:13:38.733813Z",
          "shell.execute_reply.started": "2023-03-15T04:13:38.704469Z",
          "shell.execute_reply": "2023-03-15T04:13:38.732429Z"
        },
        "trusted": true,
        "id": "aSAybv68Ftlz"
      },
      "execution_count": 23,
      "outputs": []
    },
    {
      "cell_type": "code",
      "source": [
        "df_temp_data.count()"
      ],
      "metadata": {
        "execution": {
          "iopub.status.busy": "2023-03-15T04:13:40.533452Z",
          "iopub.execute_input": "2023-03-15T04:13:40.533868Z",
          "iopub.status.idle": "2023-03-15T04:13:41.934499Z",
          "shell.execute_reply.started": "2023-03-15T04:13:40.533825Z",
          "shell.execute_reply": "2023-03-15T04:13:41.933240Z"
        },
        "trusted": true,
        "colab": {
          "base_uri": "https://localhost:8080/"
        },
        "id": "p10kWCDIFtlz",
        "outputId": "919301b2-4611-4e90-e581-8bee4083131c"
      },
      "execution_count": 24,
      "outputs": [
        {
          "output_type": "execute_result",
          "data": {
            "text/plain": [
              "2906327"
            ]
          },
          "metadata": {},
          "execution_count": 24
        }
      ]
    },
    {
      "cell_type": "code",
      "source": [
        "# Join the temp dataframe with the cities dataframe\n",
        "combined_data = df_temp_data.join(df_city_data, df_temp_data.CityKey == df_city_data.Key, \"left\").select(df_temp_data[\"*\"], df_city_data.lat, df_city_data.lng)\n",
        "combined_data.show(5)"
      ],
      "metadata": {
        "execution": {
          "iopub.status.busy": "2023-03-15T04:13:50.653902Z",
          "iopub.execute_input": "2023-03-15T04:13:50.654368Z",
          "iopub.status.idle": "2023-03-15T04:13:51.273436Z",
          "shell.execute_reply.started": "2023-03-15T04:13:50.654329Z",
          "shell.execute_reply": "2023-03-15T04:13:51.272166Z"
        },
        "trusted": true,
        "colab": {
          "base_uri": "https://localhost:8080/"
        },
        "id": "S3eTvUWfFtlz",
        "outputId": "ca24d514-10ae-499a-ac78-a41258626b01"
      },
      "execution_count": 25,
      "outputs": [
        {
          "output_type": "stream",
          "name": "stdout",
          "text": [
            "+------+-------+-------+-----+---+----+--------------+--------------+-------+------+\n",
            "|Region|Country|   City|Month|Day|Year|AvgTemperature|       CityKey|    lat|   lng|\n",
            "+------+-------+-------+-----+---+----+--------------+--------------+-------+------+\n",
            "|Africa|Algeria|Algiers|    1|  1|1995|          64.2|AlgiersAlgeria|36.7764|3.0586|\n",
            "|Africa|Algeria|Algiers|    1|  2|1995|          49.4|AlgiersAlgeria|36.7764|3.0586|\n",
            "|Africa|Algeria|Algiers|    1|  3|1995|          48.8|AlgiersAlgeria|36.7764|3.0586|\n",
            "|Africa|Algeria|Algiers|    1|  4|1995|          46.4|AlgiersAlgeria|36.7764|3.0586|\n",
            "|Africa|Algeria|Algiers|    1|  5|1995|          47.9|AlgiersAlgeria|36.7764|3.0586|\n",
            "+------+-------+-------+-----+---+----+--------------+--------------+-------+------+\n",
            "only showing top 5 rows\n",
            "\n"
          ]
        }
      ]
    },
    {
      "cell_type": "code",
      "source": [
        "# Verify that no city is missing lat/long data\n",
        "test = combined_data.filter(\"lat IS NULL\").select('CityKey').distinct().rdd.map(lambda r: r[0]).collect()\n",
        "test"
      ],
      "metadata": {
        "execution": {
          "iopub.status.busy": "2023-03-15T04:13:58.464521Z",
          "iopub.execute_input": "2023-03-15T04:13:58.464964Z",
          "iopub.status.idle": "2023-03-15T04:14:04.373375Z",
          "shell.execute_reply.started": "2023-03-15T04:13:58.464911Z",
          "shell.execute_reply": "2023-03-15T04:14:04.372037Z"
        },
        "trusted": true,
        "colab": {
          "base_uri": "https://localhost:8080/"
        },
        "id": "O1vLTklfFtlz",
        "outputId": "d1ef7d4a-c210-4b6f-bc19-738f42655142"
      },
      "execution_count": 26,
      "outputs": [
        {
          "output_type": "execute_result",
          "data": {
            "text/plain": [
              "[]"
            ]
          },
          "metadata": {},
          "execution_count": 26
        }
      ]
    },
    {
      "cell_type": "code",
      "source": [
        "if df_temp_data.count() != combined_data.count():\n",
        "    print(\"Error: Number of rows changed after join!\")\n",
        "else:\n",
        "    print(\"Join operation successful!\")"
      ],
      "metadata": {
        "execution": {
          "iopub.status.busy": "2023-03-15T04:14:04.375381Z",
          "iopub.execute_input": "2023-03-15T04:14:04.376754Z",
          "iopub.status.idle": "2023-03-15T04:14:11.493651Z",
          "shell.execute_reply.started": "2023-03-15T04:14:04.376694Z",
          "shell.execute_reply": "2023-03-15T04:14:11.492310Z"
        },
        "trusted": true,
        "colab": {
          "base_uri": "https://localhost:8080/"
        },
        "id": "Z3rLf0hoFtl0",
        "outputId": "a476e883-e7c2-49aa-ae4d-f545a231ad07"
      },
      "execution_count": 27,
      "outputs": [
        {
          "output_type": "stream",
          "name": "stdout",
          "text": [
            "Join operation successful!\n"
          ]
        }
      ]
    },
    {
      "cell_type": "code",
      "source": [
        "# Check for any cities that may have received two sets of coordinates or more. Should be empty if done correctly.\n",
        "from pyspark.sql.functions import countDistinct, col\n",
        "combined_data.groupBy(\"CityKey\").agg(countDistinct('lat').alias('GeoCount')).filter(col('GeoCount') > 1).show(truncate=False)"
      ],
      "metadata": {
        "execution": {
          "iopub.status.busy": "2023-03-15T04:14:11.494924Z",
          "iopub.execute_input": "2023-03-15T04:14:11.497296Z",
          "iopub.status.idle": "2023-03-15T04:14:18.034799Z",
          "shell.execute_reply.started": "2023-03-15T04:14:11.497246Z",
          "shell.execute_reply": "2023-03-15T04:14:18.033251Z"
        },
        "trusted": true,
        "colab": {
          "base_uri": "https://localhost:8080/"
        },
        "id": "t3YO9l_3Ftl0",
        "outputId": "4645d93c-4d1b-40c3-9a84-9de2e54614f8"
      },
      "execution_count": 28,
      "outputs": [
        {
          "output_type": "stream",
          "name": "stdout",
          "text": [
            "+-------+--------+\n",
            "|CityKey|GeoCount|\n",
            "+-------+--------+\n",
            "+-------+--------+\n",
            "\n"
          ]
        }
      ]
    },
    {
      "cell_type": "code",
      "source": [
        "combined_data.show(5)"
      ],
      "metadata": {
        "execution": {
          "iopub.status.busy": "2023-03-15T04:14:18.036736Z",
          "iopub.execute_input": "2023-03-15T04:14:18.037160Z",
          "iopub.status.idle": "2023-03-15T04:14:18.468606Z",
          "shell.execute_reply.started": "2023-03-15T04:14:18.037116Z",
          "shell.execute_reply": "2023-03-15T04:14:18.467317Z"
        },
        "trusted": true,
        "colab": {
          "base_uri": "https://localhost:8080/"
        },
        "id": "Pq15fQuZFtl0",
        "outputId": "85a287f6-2d41-4b73-a5f3-245b2d5d9ca3"
      },
      "execution_count": 29,
      "outputs": [
        {
          "output_type": "stream",
          "name": "stdout",
          "text": [
            "+------+-------+-------+-----+---+----+--------------+--------------+-------+------+\n",
            "|Region|Country|   City|Month|Day|Year|AvgTemperature|       CityKey|    lat|   lng|\n",
            "+------+-------+-------+-----+---+----+--------------+--------------+-------+------+\n",
            "|Africa|Algeria|Algiers|    1|  1|1995|          64.2|AlgiersAlgeria|36.7764|3.0586|\n",
            "|Africa|Algeria|Algiers|    1|  2|1995|          49.4|AlgiersAlgeria|36.7764|3.0586|\n",
            "|Africa|Algeria|Algiers|    1|  3|1995|          48.8|AlgiersAlgeria|36.7764|3.0586|\n",
            "|Africa|Algeria|Algiers|    1|  4|1995|          46.4|AlgiersAlgeria|36.7764|3.0586|\n",
            "|Africa|Algeria|Algiers|    1|  5|1995|          47.9|AlgiersAlgeria|36.7764|3.0586|\n",
            "+------+-------+-------+-----+---+----+--------------+--------------+-------+------+\n",
            "only showing top 5 rows\n",
            "\n"
          ]
        }
      ]
    },
    {
      "cell_type": "markdown",
      "source": [
        "## Data Cleanup"
      ],
      "metadata": {
        "id": "dXjiR67oFtl1"
      }
    },
    {
      "cell_type": "code",
      "source": [
        "#We found out that -99 are filler values so any rows with -99 as the Average Temperature should be removed. \n",
        "df_final = combined_data.filter(combined_data.AvgTemperature != -99.0)\n",
        "#df_final.show(5)\n",
        "df_final.count()"
      ],
      "metadata": {
        "execution": {
          "iopub.status.busy": "2023-03-15T04:17:22.360234Z",
          "iopub.execute_input": "2023-03-15T04:17:22.361142Z",
          "iopub.status.idle": "2023-03-15T04:17:28.324529Z",
          "shell.execute_reply.started": "2023-03-15T04:17:22.361090Z",
          "shell.execute_reply": "2023-03-15T04:17:28.323298Z"
        },
        "trusted": true,
        "colab": {
          "base_uri": "https://localhost:8080/"
        },
        "id": "6q8Vex-LFtl1",
        "outputId": "a6af5b9c-a391-40fb-ba57-8883c0b9300e"
      },
      "execution_count": 30,
      "outputs": [
        {
          "output_type": "execute_result",
          "data": {
            "text/plain": [
              "2826655"
            ]
          },
          "metadata": {},
          "execution_count": 30
        }
      ]
    },
    {
      "cell_type": "code",
      "source": [
        "# Convert date into clean format\n",
        "from pyspark.sql.functions import concat_ws, to_date, col\n",
        "\n",
        "#convert \"Year\" \"Month\" \"Day\" to date for use of time serise algorithms \n",
        "df_final = df_final.withColumn(\"date\", to_date(concat_ws(\"-\",\"Year\", \"Month\", \"Day\")))\n",
        "# df_final.show(5)\n",
        "#drop extra colms\n",
        "df_final = df_final.drop(\"Month\", \"Day\", \"Year\", \"CityKey\")\n",
        "df_final.show(5)"
      ],
      "metadata": {
        "execution": {
          "iopub.status.busy": "2023-03-15T04:18:47.116798Z",
          "iopub.execute_input": "2023-03-15T04:18:47.117307Z",
          "iopub.status.idle": "2023-03-15T04:18:47.671370Z",
          "shell.execute_reply.started": "2023-03-15T04:18:47.117258Z",
          "shell.execute_reply": "2023-03-15T04:18:47.670039Z"
        },
        "trusted": true,
        "colab": {
          "base_uri": "https://localhost:8080/"
        },
        "id": "MkyfiZUEFtl1",
        "outputId": "3d594bc0-e2e7-4dde-a7af-42024e3df195"
      },
      "execution_count": 31,
      "outputs": [
        {
          "output_type": "stream",
          "name": "stdout",
          "text": [
            "+------+-------+-------+--------------+-------+------+----------+\n",
            "|Region|Country|   City|AvgTemperature|    lat|   lng|      date|\n",
            "+------+-------+-------+--------------+-------+------+----------+\n",
            "|Africa|Algeria|Algiers|          64.2|36.7764|3.0586|1995-01-01|\n",
            "|Africa|Algeria|Algiers|          49.4|36.7764|3.0586|1995-01-02|\n",
            "|Africa|Algeria|Algiers|          48.8|36.7764|3.0586|1995-01-03|\n",
            "|Africa|Algeria|Algiers|          46.4|36.7764|3.0586|1995-01-04|\n",
            "|Africa|Algeria|Algiers|          47.9|36.7764|3.0586|1995-01-05|\n",
            "+------+-------+-------+--------------+-------+------+----------+\n",
            "only showing top 5 rows\n",
            "\n"
          ]
        }
      ]
    },
    {
      "cell_type": "markdown",
      "source": [
        "# Save the Result"
      ],
      "metadata": {
        "id": "XyCSxmKfFtl1"
      }
    },
    {
      "cell_type": "code",
      "source": [
        "df_final.coalesce(1).write.format(\"csv\").mode(\"overwrite\").option(\"header\", \"true\").save(\"Folder\")"
      ],
      "metadata": {
        "execution": {
          "iopub.status.busy": "2023-03-15T04:19:42.613784Z",
          "iopub.execute_input": "2023-03-15T04:19:42.614221Z",
          "iopub.status.idle": "2023-03-15T04:19:57.936218Z",
          "shell.execute_reply.started": "2023-03-15T04:19:42.614186Z",
          "shell.execute_reply": "2023-03-15T04:19:57.935015Z"
        },
        "trusted": true,
        "id": "Zd2ZANOdFtl1"
      },
      "execution_count": 32,
      "outputs": []
    },
    {
      "cell_type": "code",
      "source": [],
      "metadata": {
        "id": "krQBnLAxFtl2"
      },
      "execution_count": 32,
      "outputs": []
    },
    {
      "cell_type": "markdown",
      "source": [
        "# Checking Data is Fully Clean\n"
      ],
      "metadata": {
        "id": "lfmGbT3ZIWBv"
      }
    },
    {
      "cell_type": "code",
      "source": [
        "#Read the new .csv file with the clean data. \n",
        "df_final = spark.read.csv('city_temperature_clean.csv', header=True, inferSchema=True)"
      ],
      "metadata": {
        "id": "uxrRyQAfIa0W"
      },
      "execution_count": 35,
      "outputs": []
    },
    {
      "cell_type": "code",
      "source": [
        "#If the data was cleaned properly, there should be 2906327 - 79672 = 2826655 rows. \n",
        "df_final.count()\n"
      ],
      "metadata": {
        "colab": {
          "base_uri": "https://localhost:8080/"
        },
        "id": "Me_gJo4HIzzq",
        "outputId": "367ae13d-f25b-42c8-b58e-83c1b31c9581"
      },
      "execution_count": 36,
      "outputs": [
        {
          "output_type": "execute_result",
          "data": {
            "text/plain": [
              "2826655"
            ]
          },
          "metadata": {},
          "execution_count": 36
        }
      ]
    },
    {
      "cell_type": "code",
      "source": [
        "#This cell is to print out the first 5 rows of the new CSV file to double check all the contents were correct put into it. \n",
        "df_final.show(5)"
      ],
      "metadata": {
        "colab": {
          "base_uri": "https://localhost:8080/"
        },
        "id": "78HdA5o2JWwD",
        "outputId": "ade8afc9-360d-42a7-d6ea-39ff16678659"
      },
      "execution_count": 37,
      "outputs": [
        {
          "output_type": "stream",
          "name": "stdout",
          "text": [
            "+------+-------+-------+--------------+-------+------+-------------------+\n",
            "|Region|Country|   City|AvgTemperature|    lat|   lng|               date|\n",
            "+------+-------+-------+--------------+-------+------+-------------------+\n",
            "|Africa|Algeria|Algiers|          64.2|36.7764|3.0586|1995-01-01 00:00:00|\n",
            "|Africa|Algeria|Algiers|          49.4|36.7764|3.0586|1995-01-02 00:00:00|\n",
            "|Africa|Algeria|Algiers|          48.8|36.7764|3.0586|1995-01-03 00:00:00|\n",
            "|Africa|Algeria|Algiers|          46.4|36.7764|3.0586|1995-01-04 00:00:00|\n",
            "|Africa|Algeria|Algiers|          47.9|36.7764|3.0586|1995-01-05 00:00:00|\n",
            "+------+-------+-------+--------------+-------+------+-------------------+\n",
            "only showing top 5 rows\n",
            "\n"
          ]
        }
      ]
    },
    {
      "cell_type": "code",
      "source": [
        "df_final.printSchema()"
      ],
      "metadata": {
        "colab": {
          "base_uri": "https://localhost:8080/"
        },
        "id": "fwJ9ixheijQr",
        "outputId": "14560fe6-a650-497d-8bfe-afd4641b6529"
      },
      "execution_count": 38,
      "outputs": [
        {
          "output_type": "stream",
          "name": "stdout",
          "text": [
            "root\n",
            " |-- Region: string (nullable = true)\n",
            " |-- Country: string (nullable = true)\n",
            " |-- City: string (nullable = true)\n",
            " |-- AvgTemperature: double (nullable = true)\n",
            " |-- lat: double (nullable = true)\n",
            " |-- lng: double (nullable = true)\n",
            " |-- date: timestamp (nullable = true)\n",
            "\n"
          ]
        }
      ]
    },
    {
      "cell_type": "markdown",
      "source": [
        "# This is where we try to fix the Timestamp to only have the date and no time.\n"
      ],
      "metadata": {
        "id": "rfmMotBJiyey"
      }
    },
    {
      "cell_type": "code",
      "source": [
        "df_final2= df_final.withColumn(\"date\",to_date(\"date\"))\n",
        "\n",
        "df_final2.show(5)\n",
        "\n",
        "type(df_final2)\n",
        "\n",
        "df_final2.printSchema()\n"
      ],
      "metadata": {
        "colab": {
          "base_uri": "https://localhost:8080/"
        },
        "id": "vqDgsiP9i5U-",
        "outputId": "1391fbf1-3f28-4934-942a-c3ca33a11e1a"
      },
      "execution_count": 52,
      "outputs": [
        {
          "output_type": "stream",
          "name": "stdout",
          "text": [
            "+------+-------+-------+--------------+-------+------+----------+\n",
            "|Region|Country|   City|AvgTemperature|    lat|   lng|      date|\n",
            "+------+-------+-------+--------------+-------+------+----------+\n",
            "|Africa|Algeria|Algiers|          64.2|36.7764|3.0586|1995-01-01|\n",
            "|Africa|Algeria|Algiers|          49.4|36.7764|3.0586|1995-01-02|\n",
            "|Africa|Algeria|Algiers|          48.8|36.7764|3.0586|1995-01-03|\n",
            "|Africa|Algeria|Algiers|          46.4|36.7764|3.0586|1995-01-04|\n",
            "|Africa|Algeria|Algiers|          47.9|36.7764|3.0586|1995-01-05|\n",
            "+------+-------+-------+--------------+-------+------+----------+\n",
            "only showing top 5 rows\n",
            "\n",
            "root\n",
            " |-- Region: string (nullable = true)\n",
            " |-- Country: string (nullable = true)\n",
            " |-- City: string (nullable = true)\n",
            " |-- AvgTemperature: double (nullable = true)\n",
            " |-- lat: double (nullable = true)\n",
            " |-- lng: double (nullable = true)\n",
            " |-- date: date (nullable = true)\n",
            "\n"
          ]
        }
      ]
    }
  ]
}